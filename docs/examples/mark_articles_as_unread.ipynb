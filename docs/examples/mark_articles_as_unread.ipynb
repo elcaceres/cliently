{
 "cells": [
  {
   "cell_type": "code",
   "execution_count": 1,
   "metadata": {},
   "outputs": [],
   "source": [
    "import os\n",
    "from cliently import client\n",
    "from cliently.formatter import time_in_ms\n",
    "import dateutil.tz as dtz\n",
    "import datetime\n",
    "from dateutil.relativedelta import relativedelta"
   ]
  },
  {
   "cell_type": "markdown",
   "metadata": {},
   "source": [
    "# Load your Feedly Access Token and User ID"
   ]
  },
  {
   "cell_type": "code",
   "execution_count": 2,
   "metadata": {},
   "outputs": [],
   "source": [
    "ACCESS_TOKEN=os.getenv(\"FEEDLY_ACCESS_TOKEN\")\n",
    "UID = os.getenv(\"FEEDLY_UID\")\n",
    "BASE_URL = \"https://cloud.feedly.com\""
   ]
  },
  {
   "cell_type": "markdown",
   "metadata": {},
   "source": [
    "# Define a last time to update from"
   ]
  },
  {
   "cell_type": "code",
   "execution_count": 3,
   "metadata": {},
   "outputs": [],
   "source": [
    "now = datetime.datetime.now(dtz.tzlocal())\n",
    "last_update = now + relativedelta(weeks=-6)"
   ]
  },
  {
   "cell_type": "markdown",
   "metadata": {},
   "source": [
    "# Instantiate the client"
   ]
  },
  {
   "cell_type": "code",
   "execution_count": 4,
   "metadata": {},
   "outputs": [],
   "source": [
    "options = dict(access_token=ACCESS_TOKEN)\n",
    "a = client.FeedlyClient(**options)"
   ]
  },
  {
   "cell_type": "markdown",
   "metadata": {},
   "source": [
    "# Choose your feed of interest "
   ]
  },
  {
   "cell_type": "code",
   "execution_count": 5,
   "metadata": {},
   "outputs": [
    {
     "name": "stdout",
     "output_type": "stream",
     "text": [
      "{'user/6cd10586-58f9-4e23-ae77-8d2e84df40be/category/Journal Blitz'}\n"
     ]
    }
   ],
   "source": [
    "subscriptions = a.get_user_subscriptions()\n",
    "streamIDs = set(i[\"categories\"][0][\"id\"] for i in subscriptions)\n",
    "print(streamIDs)"
   ]
  },
  {
   "cell_type": "code",
   "execution_count": 6,
   "metadata": {},
   "outputs": [],
   "source": [
    "jbID=list(streamIDs)[0]"
   ]
  },
  {
   "cell_type": "markdown",
   "metadata": {},
   "source": [
    "# Update your feed"
   ]
  },
  {
   "cell_type": "code",
   "execution_count": 7,
   "metadata": {},
   "outputs": [
    {
     "data": {
      "text/plain": [
       "<Response [200]>"
      ]
     },
     "execution_count": 7,
     "metadata": {},
     "output_type": "execute_result"
    }
   ],
   "source": [
    "# mark as read\n",
    "last_update_formatted = time_in_ms(last_update)\n",
    "entryIDs = a.get_entry_ids(jbID, newerThan=last_update_formatted, unreadOnly=False)\n",
    "\n",
    "while \"continuation\" in entryIDs.keys():\n",
    "    a.mark_articles_unread(entryIDs[\"ids\"])\n",
    "    entryIDs = a.get_entry_ids(jbID, continuation=entryIDs[\"continuation\"], \n",
    "                               maxcount=1000, newerThan=last_update_formatted) # be sure to keep newerThan!\n",
    "    \n",
    "a.mark_articles_unread(entryIDs[\"ids\"])"
   ]
  },
  {
   "cell_type": "markdown",
   "metadata": {},
   "source": [
    "# Response 200 is a success"
   ]
  }
 ],
 "metadata": {
  "kernelspec": {
   "display_name": "Python 3",
   "language": "python",
   "name": "python3"
  },
  "language_info": {
   "codemirror_mode": {
    "name": "ipython",
    "version": 3
   },
   "file_extension": ".py",
   "mimetype": "text/x-python",
   "name": "python",
   "nbconvert_exporter": "python",
   "pygments_lexer": "ipython3",
   "version": "3.5.4"
  }
 },
 "nbformat": 4,
 "nbformat_minor": 2
}
